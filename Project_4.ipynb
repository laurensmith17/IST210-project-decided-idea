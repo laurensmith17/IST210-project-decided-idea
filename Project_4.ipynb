{
  "nbformat": 4,
  "nbformat_minor": 0,
  "metadata": {
    "colab": {
      "name": "Project#4.ipynb",
      "provenance": [],
      "collapsed_sections": [],
      "include_colab_link": true
    },
    "kernelspec": {
      "name": "python3",
      "display_name": "Python 3"
    }
  },
  "cells": [
    {
      "cell_type": "markdown",
      "metadata": {
        "id": "view-in-github",
        "colab_type": "text"
      },
      "source": [
        "<a href=\"https://colab.research.google.com/github/laurensmith17/IST210-project-decided-idea/blob/master/Project_4.ipynb\" target=\"_parent\"><img src=\"https://colab.research.google.com/assets/colab-badge.svg\" alt=\"Open In Colab\"/></a>"
      ]
    },
    {
      "cell_type": "code",
      "metadata": {
        "id": "bfj23bmMAex1",
        "colab_type": "code",
        "colab": {}
      },
      "source": [
        "import sqlite3"
      ],
      "execution_count": 0,
      "outputs": []
    },
    {
      "cell_type": "code",
      "metadata": {
        "id": "KfzlPd7GAkov",
        "colab_type": "code",
        "colab": {}
      },
      "source": [
        "connectionToDatabase = sqlite3.connect('AmusementPark')"
      ],
      "execution_count": 0,
      "outputs": []
    },
    {
      "cell_type": "code",
      "metadata": {
        "id": "dAdTVwwQDd5v",
        "colab_type": "code",
        "colab": {}
      },
      "source": [
        "cursor = connectionToDatabase.cursor()"
      ],
      "execution_count": 0,
      "outputs": []
    },
    {
      "cell_type": "code",
      "metadata": {
        "id": "EF9-qfo-Dep0",
        "colab_type": "code",
        "colab": {}
      },
      "source": [
        "cursor.execute('''create table IF NOT EXISTS FoodConcessions (foodStandID INTEGER PRIMARY KEY, workerID integer, profit real, foodType text, quantity integer, dateAndTime text)''')\n",
        "connectionToDatabase.commit()"
      ],
      "execution_count": 0,
      "outputs": []
    },
    {
      "cell_type": "code",
      "metadata": {
        "id": "fBQjxPYEErp_",
        "colab_type": "code",
        "colab": {}
      },
      "source": [
        "cursor.execute('''insert into FoodConcessions values (3, 2, 10.50, 'salad', 3, '10/28/19, 13:02' );''')\n",
        "connectionToDatabase.commit()"
      ],
      "execution_count": 0,
      "outputs": []
    },
    {
      "cell_type": "code",
      "metadata": {
        "id": "kJrcRrWiIZtz",
        "colab_type": "code",
        "colab": {}
      },
      "source": [
        "cursor.execute('''create table IF NOT EXISTS Customers (customerID integer PRIMARY KEY, dateTime text, ticketsBought integer, firstName text, lastName text)''')\n",
        "connectionToDatabase.commit()"
      ],
      "execution_count": 0,
      "outputs": []
    },
    {
      "cell_type": "code",
      "metadata": {
        "id": "JwT4_J-GNzcm",
        "colab_type": "code",
        "colab": {}
      },
      "source": [
        "cursor.execute('''insert into Customers values (27, '9/17/19 14:34', 2, 'Lauren', 'Smith' );''')\n",
        "connectionToDatabase.commit()"
      ],
      "execution_count": 0,
      "outputs": []
    },
    {
      "cell_type": "code",
      "metadata": {
        "id": "WssVhGMnOJQy",
        "colab_type": "code",
        "colab": {}
      },
      "source": [
        "cursor.execute('''create table IF NOT EXISTS sectionsOfPark (sectionID integer PRIMARY KEY, rideID real, foodStandID real, theme text, area text, capacity integer)''')\n",
        "connectionToDatabase.commit()"
      ],
      "execution_count": 0,
      "outputs": []
    },
    {
      "cell_type": "code",
      "metadata": {
        "id": "77GM3H06Pn9F",
        "colab_type": "code",
        "colab": {}
      },
      "source": [
        "cursor.execute('''insert into sectionsOfPark values (4, 3, 6, 'children', 'childrens area', 300 );''')\n",
        "connectionToDatabase.commit()"
      ],
      "execution_count": 0,
      "outputs": []
    },
    {
      "cell_type": "code",
      "metadata": {
        "id": "oVue6oSxQPiN",
        "colab_type": "code",
        "colab": {}
      },
      "source": [
        "cursor.execute('''create table IF NOT EXISTS Rides (rideID integer PRIMARY KEY, lengthOfLine text, workerID integer, type text, customerID integer, dateTime text)''')\n",
        "connectionToDatabase.commit()"
      ],
      "execution_count": 0,
      "outputs": []
    },
    {
      "cell_type": "code",
      "metadata": {
        "id": "wNNha2CRRBLH",
        "colab_type": "code",
        "colab": {}
      },
      "source": [
        "cursor.execute('''insert into Rides values (15, '45 mins', 5, 'Roller Coaster', 7, '8/24/19 15:47' );''')\n",
        "connectionToDatabase.commit()"
      ],
      "execution_count": 0,
      "outputs": []
    },
    {
      "cell_type": "code",
      "metadata": {
        "id": "vqeYKtkwRa2t",
        "colab_type": "code",
        "colab": {}
      },
      "source": [
        "cursor.execute('''create table IF NOT EXISTS Worker (workerID integer PRIMARY KEY, firstName text, lastName text, wage real, hoursWorked real)''')\n",
        "connectionToDatabase.commit()"
      ],
      "execution_count": 0,
      "outputs": []
    },
    {
      "cell_type": "code",
      "metadata": {
        "id": "kzYjrRHrTn_G",
        "colab_type": "code",
        "colab": {}
      },
      "source": [
        "cursor.execute('''insert into Worker values (6, 'Zachary', 'Shoemaker', 10.25, 35 );''')\n",
        "connectionToDatabase.commit()"
      ],
      "execution_count": 0,
      "outputs": []
    },
    {
      "cell_type": "code",
      "metadata": {
        "id": "NZlpH-PCV1Eb",
        "colab_type": "code",
        "colab": {}
      },
      "source": [
        "cursor.execute('''insert into Worker values (10, 'Kenya', 'Shoemaker', 15, 28 );''')\n",
        "connectionToDatabase.commit()"
      ],
      "execution_count": 0,
      "outputs": []
    },
    {
      "cell_type": "code",
      "metadata": {
        "id": "SB_ec2L4V-HB",
        "colab_type": "code",
        "colab": {}
      },
      "source": [
        "cursor.execute('''insert into Worker values (11, 'Oliver', 'Smith', 20.75, 35 );''')\n",
        "connectionToDatabase.commit()"
      ],
      "execution_count": 0,
      "outputs": []
    },
    {
      "cell_type": "markdown",
      "metadata": {
        "id": "W82uNB6mWSAg",
        "colab_type": "text"
      },
      "source": [
        "Which three workers have the highest salaries?\n",
        "This question is important because the people being paid the most should have been employed by the Amusement park for a long length of time or should be very good workers. It is also important to look at this to be sure that those at the top are deserving of their high salary.  "
      ]
    },
    {
      "cell_type": "code",
      "metadata": {
        "id": "v_TxKQWLWKfg",
        "colab_type": "code",
        "colab": {
          "base_uri": "https://localhost:8080/",
          "height": 68
        },
        "outputId": "f86e53f7-e3d5-4c03-96a8-9facaffd75c5"
      },
      "source": [
        "cursor.execute('''select * from Worker ORDER BY Wage DESC limit 3;''')\n",
        "for row in cursor.fetchall():\n",
        "  print (row)"
      ],
      "execution_count": 28,
      "outputs": [
        {
          "output_type": "stream",
          "text": [
            "(11, 'Oliver', 'Smith', 20.75, 35.0)\n",
            "(7, 'Vinton', 'Smith', 15.0, 28.0)\n",
            "(8, 'Vinton', 'Smith', 15.0, 28.0)\n"
          ],
          "name": "stdout"
        }
      ]
    },
    {
      "cell_type": "markdown",
      "metadata": {
        "id": "bpoR1yBLWsqb",
        "colab_type": "text"
      },
      "source": [
        "What are the distinct wages of all of the workers?\n",
        "This question is important because in a real amusement park, it is important for the employers to know what everyone is being paid. It is crucial to look at the spread and to see the pay wage differences in order to make sure that people are being fairly compensated for their work. "
      ]
    },
    {
      "cell_type": "code",
      "metadata": {
        "id": "dhGVzXk_Wv97",
        "colab_type": "code",
        "colab": {
          "base_uri": "https://localhost:8080/",
          "height": 68
        },
        "outputId": "9db2a58e-cab9-4bbe-a08c-28bc32fd1cf8"
      },
      "source": [
        "cursor.execute('''select distinct(Wage) from Worker;''')\n",
        "for row in cursor.fetchall():\n",
        "  print (row)"
      ],
      "execution_count": 31,
      "outputs": [
        {
          "output_type": "stream",
          "text": [
            "(10.25,)\n",
            "(15.0,)\n",
            "(20.75,)\n"
          ],
          "name": "stdout"
        }
      ]
    },
    {
      "cell_type": "markdown",
      "metadata": {
        "id": "Enav8RPOYai-",
        "colab_type": "text"
      },
      "source": [
        "How many workers are there?\n",
        "This question is arguably the most important because it is absolutely crucial to know how many people are employed by you (for many reasons)! Some of those reasons are for the sake of filing taxes, creating a schedule, and more. In addition, the number is important because the employer knows how many employees he needs. "
      ]
    },
    {
      "cell_type": "code",
      "metadata": {
        "id": "eij4i9UzYpqC",
        "colab_type": "code",
        "colab": {
          "base_uri": "https://localhost:8080/",
          "height": 34
        },
        "outputId": "446a2f4d-d00d-4be6-c3ac-d4b3cacc23be"
      },
      "source": [
        "cursor.execute('''select count(*) from Worker''')\n",
        "for row in cursor.fetchall():\n",
        "  print (row)"
      ],
      "execution_count": 32,
      "outputs": [
        {
          "output_type": "stream",
          "text": [
            "(7,)\n"
          ],
          "name": "stdout"
        }
      ]
    }
  ]
}